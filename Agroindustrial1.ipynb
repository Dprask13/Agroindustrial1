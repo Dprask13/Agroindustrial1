{
  "nbformat": 4,
  "nbformat_minor": 0,
  "metadata": {
    "colab": {
      "provenance": [],
      "authorship_tag": "ABX9TyN2DKR3rzMqtyxTVop5+cP/",
      "include_colab_link": true
    },
    "kernelspec": {
      "name": "python3",
      "display_name": "Python 3"
    },
    "language_info": {
      "name": "python"
    }
  },
  "cells": [
    {
      "cell_type": "markdown",
      "metadata": {
        "id": "view-in-github",
        "colab_type": "text"
      },
      "source": [
        "<a href=\"https://colab.research.google.com/github/Dprask13/Agroindustrial1/blob/main/Agroindustrial1.ipynb\" target=\"_parent\"><img src=\"https://colab.research.google.com/assets/colab-badge.svg\" alt=\"Open In Colab\"/></a>"
      ]
    },
    {
      "cell_type": "code",
      "execution_count": null,
      "metadata": {
        "id": "yOb8CT34zsrS"
      },
      "outputs": [],
      "source": []
    },
    {
      "cell_type": "code",
      "metadata": {
        "colab": {
          "base_uri": "https://localhost:8080/"
        },
        "id": "82fbe84a",
        "outputId": "2df74af4-1d3a-4058-d0aa-fb826f3d52e5"
      },
      "source": [
        "# Define two numbers\n",
        "num1 = 10\n",
        "num2 = 5\n",
        "\n",
        "# Add the numbers\n",
        "sum_result = num1 + num2\n",
        "\n",
        "# Print the result\n",
        "print(f\"The sum of {num1} and {num2} is: {sum_result}\")"
      ],
      "execution_count": 1,
      "outputs": [
        {
          "output_type": "stream",
          "name": "stdout",
          "text": [
            "The sum of 10 and 5 is: 15\n"
          ]
        }
      ]
    },
    {
      "cell_type": "markdown",
      "metadata": {
        "id": "3746c94c"
      },
      "source": [
        "Este código Python define dos variables, `num1` y `num2`, y les asigna los valores 10 y 5 respectivamente. Luego, suma estos dos números y almacena el resultado en una nueva variable llamada `sum_result`. Finalmente, imprime un mensaje formateado que muestra los números originales y su suma."
      ]
    }
  ]
}