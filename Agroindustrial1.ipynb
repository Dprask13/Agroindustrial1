{
  "nbformat": 4,
  "nbformat_minor": 0,
  "metadata": {
    "colab": {
      "provenance": [],
      "authorship_tag": "ABX9TyOEqzIeSV0lTxGtDv0H4T9Y",
      "include_colab_link": true
    },
    "kernelspec": {
      "name": "python3",
      "display_name": "Python 3"
    },
    "language_info": {
      "name": "python"
    }
  },
  "cells": [
    {
      "cell_type": "markdown",
      "metadata": {
        "id": "view-in-github",
        "colab_type": "text"
      },
      "source": [
        "<a href=\"https://colab.research.google.com/github/Dprask13/Agroindustrial1/blob/main/Agroindustrial1.ipynb\" target=\"_parent\"><img src=\"https://colab.research.google.com/assets/colab-badge.svg\" alt=\"Open In Colab\"/></a>"
      ]
    },
    {
      "cell_type": "code",
      "execution_count": null,
      "metadata": {
        "id": "yOb8CT34zsrS"
      },
      "outputs": [],
      "source": []
    },
    {
      "cell_type": "code",
      "metadata": {
        "colab": {
          "base_uri": "https://localhost:8080/"
        },
        "id": "82fbe84a",
        "outputId": "2df74af4-1d3a-4058-d0aa-fb826f3d52e5"
      },
      "source": [
        "# Define two numbers\n",
        "num1 = 10\n",
        "num2 = 5\n",
        "\n",
        "# Add the numbers\n",
        "sum_result = num1 + num2\n",
        "\n",
        "# Print the result\n",
        "print(f\"The sum of {num1} and {num2} is: {sum_result}\")"
      ],
      "execution_count": 1,
      "outputs": [
        {
          "output_type": "stream",
          "name": "stdout",
          "text": [
            "The sum of 10 and 5 is: 15\n"
          ]
        }
      ]
    },
    {
      "cell_type": "markdown",
      "metadata": {
        "id": "3746c94c"
      },
      "source": [
        "Este código Python define dos variables, `num1` y `num2`, y les asigna los valores 10 y 5 respectivamente. Luego, suma estos dos números y almacena el resultado en una nueva variable llamada `sum_result`. Finalmente, imprime un mensaje formateado que muestra los números originales y su suma."
      ]
    },
    {
      "cell_type": "code",
      "metadata": {
        "colab": {
          "base_uri": "https://localhost:8080/"
        },
        "id": "da861b7e",
        "outputId": "5fc1adda-bcb8-4850-f1a4-f95efe7db2ad"
      },
      "source": [
        "# Define two numbers\n",
        "num1 = 20\n",
        "num2 = 5\n",
        "\n",
        "# Addition\n",
        "sum_result = num1 + num2\n",
        "print(f\"Suma: {num1} + {num2} = {sum_result}\")\n",
        "\n",
        "# Subtraction\n",
        "difference_result = num1 - num2\n",
        "print(f\"Resta: {num1} - {num2} = {difference_result}\")\n",
        "\n",
        "# Multiplication\n",
        "product_result = num1 * num2\n",
        "print(f\"Multiplicación: {num1} * {num2} = {product_result}\")\n",
        "\n",
        "# Division\n",
        "division_result = num1 / num2\n",
        "print(f\"División: {num1} / {num2} = {division_result}\")\n",
        "\n",
        "# Integer Division\n",
        "integer_division_result = num1 // num2\n",
        "print(f\"División entera: {num1} // {num2} = {integer_division_result}\")\n",
        "\n",
        "# Modulo (Remainder)\n",
        "modulo_result = num1 % num2\n",
        "print(f\"Módulo: {num1} % {num2} = {modulo_result}\")\n",
        "\n",
        "# Exponentiation\n",
        "exponentiation_result = num1 ** num2\n",
        "print(f\"Potencia: {num1} ** {num2} = {exponentiation_result}\")"
      ],
      "execution_count": 2,
      "outputs": [
        {
          "output_type": "stream",
          "name": "stdout",
          "text": [
            "Suma: 20 + 5 = 25\n",
            "Resta: 20 - 5 = 15\n",
            "Multiplicación: 20 * 5 = 100\n",
            "División: 20 / 5 = 4.0\n",
            "División entera: 20 // 5 = 4\n",
            "Módulo: 20 % 5 = 0\n",
            "Potencia: 20 ** 5 = 3200000\n"
          ]
        }
      ]
    }
  ]
}